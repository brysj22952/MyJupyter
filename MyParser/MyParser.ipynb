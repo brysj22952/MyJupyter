{
 "cells": [
  {
   "cell_type": "markdown",
   "metadata": {},
   "source": [
    "# 参考"
   ]
  },
  {
   "cell_type": "markdown",
   "metadata": {},
   "source": [
    "参考：类属性的实现 https://stackoverflow.com/questions/128573/using-property-on-classmethods  "
   ]
  },
  {
   "cell_type": "markdown",
   "metadata": {},
   "source": [
    "Python操作符重载  \n",
    "https://blog.csdn.net/geek_xiong/article/details/82598228  "
   ]
  },
  {
   "cell_type": "markdown",
   "metadata": {},
   "source": [
    "# 定义规则对象接口"
   ]
  },
  {
   "cell_type": "markdown",
   "metadata": {},
   "source": []
  },
  {
   "cell_type": "markdown",
   "metadata": {},
   "source": [
    "# 全局变量"
   ]
  },
  {
   "cell_type": "markdown",
   "metadata": {},
   "source": [
    "- gText：表示待解析的原始字符串。  \n",
    "- gTextLen：待解析字符串的长度，这是一个给定。  "
   ]
  },
  {
   "cell_type": "markdown",
   "metadata": {},
   "source": [
    "# 函数"
   ]
  },
  {
   "cell_type": "markdown",
   "metadata": {},
   "source": [
    "## 匹配函数"
   ]
  },
  {
   "cell_type": "markdown",
   "metadata": {},
   "source": [
    "- 函数原型： (int[] newIndexs) IMatcher(int curIndex)  \n",
    "- 返回值：是一个列表，表示匹配成功的新的游标列表。如果没有匹配成功，则列表为空。    \n",
    "- 参数：curIndex，表示从哪个游标开始解析。  "
   ]
  },
  {
   "cell_type": "markdown",
   "metadata": {},
   "source": [
    "## AndP"
   ]
  },
  {
   "cell_type": "markdown",
   "metadata": {},
   "source": [
    "- 函数原型： IMatcher AndP(IMatcher[] matchers)  \n",
    "- 返回值：匹配函数    \n",
    "- 参数：2个或者多个匹配函数。    "
   ]
  },
  {
   "cell_type": "code",
   "execution_count": null,
   "metadata": {},
   "outputs": [],
   "source": [
    "def AndP(*matchers):\n",
    "    def matcher(curIndex):\n",
    "        matchersNum=len(matchers)\n",
    "        if(matchersNum<=0):raise Exception('20190814_1132:matchersNum<=0')\n",
    "        #如果只有一个，直接返回匹配结果即可\n",
    "        if(matchersNum==1):\n",
    "            return (matchers[0])(curIndex)\n",
    "        #第一个匹配项\n",
    "        firstMatcher=matchers[0]\n",
    "        #删除第一项，得到剩余的匹配项\n",
    "        remainMatchers=matchers[1:]\n",
    "        #第一个匹配项的匹配结果\n",
    "        results=firstMatcher(curIndex)\n",
    "        #如果匹配失败，则整个失败\n",
    "        if(len(results)==0): return []\n",
    "        #匹配成功的情况\n",
    "        res=[]\n",
    "        for newIndex in results:\n",
    "            tmpResult=AndP(*remainMatchers)(newIndex)\n",
    "            res.extend(tmpResult)\n",
    "        #匹配结果合并去重\n",
    "        res=list(set(res))\n",
    "        #返回最终的结果\n",
    "        return res\n",
    "    return matcher"
   ]
  },
  {
   "cell_type": "markdown",
   "metadata": {},
   "source": [
    "## OrP"
   ]
  },
  {
   "cell_type": "markdown",
   "metadata": {},
   "source": [
    "- 函数原型： IMatcher OrP(IMatcher[] matchers)  \n",
    "- 返回值：匹配函数    \n",
    "- 参数：2个或者多个匹配函数。    "
   ]
  },
  {
   "cell_type": "code",
   "execution_count": null,
   "metadata": {},
   "outputs": [],
   "source": [
    "def OrP(*matchers):\n",
    "    def matcher(curIndex):\n",
    "        res=[]\n",
    "        for matcher in matchers:\n",
    "            tmpResult=matcher(curIndex)\n",
    "            res.extend(tmpResult)\n",
    "        #匹配结果合并去重\n",
    "        res=list(set(res))\n",
    "        #返回最终的结果\n",
    "        return res\n",
    "    return matcher"
   ]
  },
  {
   "cell_type": "markdown",
   "metadata": {},
   "source": [
    "## 匹配单字符"
   ]
  },
  {
   "cell_type": "markdown",
   "metadata": {},
   "source": [
    "- 函数原型： IMatcher Char(char ch)  \n",
    "- 返回值：匹配函数    \n",
    "- 参数：ch，匹配的字符。    "
   ]
  },
  {
   "cell_type": "code",
   "execution_count": null,
   "metadata": {},
   "outputs": [],
   "source": [
    "def Char(ch):\n",
    "    def matcher(curIndex):\n",
    "        if curIndex>=gTextLen: return []\n",
    "        if curIndex<0: raise Exception('20190814_0951: curIndex<0')\n",
    "        if gText[curIndex]==ch: \n",
    "            newIndex=curIndex+1\n",
    "            return [newIndex]\n",
    "        return []\n",
    "    return matcher"
   ]
  },
  {
   "cell_type": "markdown",
   "metadata": {},
   "source": [
    "# 主程序"
   ]
  },
  {
   "cell_type": "code",
   "execution_count": null,
   "metadata": {},
   "outputs": [],
   "source": [
    "a=Char('a')\n",
    "b=Char('b')\n",
    "def S(curIndex):\n",
    "    tmp=AndP(a,S)\n",
    "    res=OrP(tmp,b)\n",
    "    return res(curIndex)"
   ]
  },
  {
   "cell_type": "code",
   "execution_count": null,
   "metadata": {},
   "outputs": [],
   "source": [
    "gText='ab'\n",
    "gTextLen=len(gText)\n",
    "\n",
    "def Run():\n",
    "    res=S(0)\n",
    "    print(f'res:{res}')\n",
    "    for i in res:\n",
    "        print(f'text:{gText[0:i]}')"
   ]
  }
 ],
 "metadata": {
  "kernelspec": {
   "display_name": "Python 3",
   "language": "python",
   "name": "python3"
  },
  "language_info": {
   "name": ""
  },
  "toc-autonumbering": true
 },
 "nbformat": 4,
 "nbformat_minor": 2
}
