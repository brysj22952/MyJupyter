{
 "cells": [
  {
   "cell_type": "markdown",
   "metadata": {},
   "source": [
    "# 思路"
   ]
  },
  {
   "cell_type": "markdown",
   "metadata": {},
   "source": [
    "- 左侧有且仅有一个非终结符  \n",
    "    形如S=aS\n",
    "- 匹配接口IMatch  \n",
    "    实现了Match函数，Match函数负责识别一段文本，返回可能识别到的多个结果列表，如果没有识别到，返回空列表  \n",
    "- 标记符对象  \n",
    "    - 实现了IMatch接口  \n",
    "    - 非终结符标记符对象  \n",
    "        - 包括一个或者多个匹配规则对象，这些匹配规则对象之间是或的关系  \n",
    "        - 起始标记符对象，整个匹配过程从此开始  \n",
    "    - 终结符标记符对象  \n",
    "        直接返回匹配结果就好，不包括匹配规则对象    \n",
    "    - 开始符  \n",
    "        特殊的非终结标记符，匹配就从它开始  \n",
    "- 匹配规则对象  \n",
    "    - 也实现了IMatch接口  \n",
    "    - 包括多个标记符对象，这些标记符对象是与的关系  \n"
   ]
  },
  {
   "cell_type": "markdown",
   "metadata": {
    "toc-hr-collapsed": true,
    "toc-nb-collapsed": true
   },
   "source": [
    "# 实现"
   ]
  },
  {
   "cell_type": "markdown",
   "metadata": {},
   "source": [
    "## 引入及类型"
   ]
  },
  {
   "cell_type": "code",
   "execution_count": 15,
   "metadata": {},
   "outputs": [],
   "source": [
    "from typing import List, Tuple\n",
    "\n",
    "# 匹配之后，剩余的待匹配的结果类型描述，形如(True,[(2,3),(5,6)])，第一项表示是否匹配成功，第2项表示匹配的结果，可能有多个待匹配项\n",
    "# 每一个匹配项第一项表示起始索引，第2项表示长度\n",
    "ParseResults = Tuple[bool,List[Tuple[int,int]]]"
   ]
  },
  {
   "cell_type": "markdown",
   "metadata": {},
   "source": [
    "## 匹配接口IMatch"
   ]
  },
  {
   "cell_type": "code",
   "execution_count": 9,
   "metadata": {},
   "outputs": [],
   "source": [
    "class IMatch:\n",
    "    # 表示待解析的原始字符串\n",
    "    Text :str = None\n",
    "\n",
    "    def Match(self, startIndex: int, length: int, isFullMatch: bool) -> ParseResults:\n",
    "        '''\n",
    "        功能描述：对待解析的字符串进行匹配，返回匹配的结果\n",
    "        startIndex：待匹配字符串的起始索引\n",
    "        length：待匹配字符串的长度\n",
    "        isFullMatch：表示是否需要完全匹配，如果完全匹配，则必须字符串匹配完，才返回成功，只匹配部分，则匹配失败\n",
    "        返回值：ParseResults类型，可能有多个剩余的待匹配项\n",
    "        '''\n",
    "        pass\n",
    "    pass"
   ]
  },
  {
   "cell_type": "markdown",
   "metadata": {},
   "source": [
    "## 标记符对象"
   ]
  },
  {
   "cell_type": "code",
   "execution_count": 10,
   "metadata": {},
   "outputs": [],
   "source": [
    "class Symbol(IMatch):pass"
   ]
  },
  {
   "cell_type": "markdown",
   "metadata": {},
   "source": [
    "### 终结符对象"
   ]
  },
  {
   "cell_type": "code",
   "execution_count": 11,
   "metadata": {},
   "outputs": [],
   "source": [
    "class Terminal(Symbol):pass"
   ]
  },
  {
   "cell_type": "markdown",
   "metadata": {},
   "source": [
    "### 非终结符对象"
   ]
  },
  {
   "cell_type": "code",
   "execution_count": 12,
   "metadata": {},
   "outputs": [],
   "source": [
    "class NonTerminal(Symbol):pass"
   ]
  },
  {
   "cell_type": "markdown",
   "metadata": {},
   "source": [
    "### 关于结束符"
   ]
  },
  {
   "cell_type": "markdown",
   "metadata": {},
   "source": [
    "开始似乎需要结束符，结束符表示最后空的匹配，才能匹配成功。后来思考一下，似乎不需要结束符了，因为对于每一个匹配规则对象，都要求完全匹配，不允许还剩余没有匹配的部分。所以，对于标记符对象、匹配规则对象，都要检查是否匹配完整。  "
   ]
  },
  {
   "cell_type": "markdown",
   "metadata": {},
   "source": [
    "表示一个基础匹配单元，包括开始符、非终结标记符、终结标记符。  \n",
    "```\n",
    "# S是开始符，`aS`表示S的一个匹配规则，S、A都是非终结标记符，a是终结标记符\n",
    "S=aS\n",
    "A=aB\n",
    "```"
   ]
  },
  {
   "cell_type": "markdown",
   "metadata": {},
   "source": [
    "### 开始符对象"
   ]
  },
  {
   "cell_type": "code",
   "execution_count": 13,
   "metadata": {},
   "outputs": [],
   "source": [
    "class Starter(NonTerminal):pass"
   ]
  },
  {
   "cell_type": "markdown",
   "metadata": {},
   "source": [
    "# 应用"
   ]
  },
  {
   "cell_type": "markdown",
   "metadata": {},
   "source": [
    "## 实现`S=a`"
   ]
  },
  {
   "cell_type": "markdown",
   "metadata": {},
   "source": [
    "## 字母`a`的终结符对象"
   ]
  },
  {
   "cell_type": "code",
   "execution_count": 17,
   "metadata": {},
   "outputs": [],
   "source": [
    "class A(Terminal):\n",
    "    def Match(self, startIndex: int, length: int, isFullMatch: bool) -> ParseResults:\n",
    "        if length <= 0: return (False,None)\n",
    "        \n",
    "        # 如果严格匹配，只能匹配单字符\n",
    "        if isFullMatch==True and length > 1: return (False,None)\n",
    "        \n",
    "        if IMatch.Text[0] != 'a': return (False,None)\n",
    "        return (True,[(startIndex+1,length-1)])"
   ]
  },
  {
   "cell_type": "markdown",
   "metadata": {},
   "source": [
    "# 试验运行"
   ]
  },
  {
   "cell_type": "code",
   "execution_count": 25,
   "metadata": {},
   "outputs": [
    {
     "name": "stdout",
     "output_type": "stream",
     "text": [
      "(False, None)\n"
     ]
    }
   ],
   "source": [
    "IMatch.Text = ''\n",
    "a=A()\n",
    "res = a.Match(0,0,False)\n",
    "print(res)"
   ]
  },
  {
   "cell_type": "code",
   "execution_count": null,
   "metadata": {},
   "outputs": [],
   "source": []
  }
 ],
 "metadata": {
  "kernelspec": {
   "display_name": "Python 3",
   "language": "python",
   "name": "python3"
  },
  "language_info": {
   "codemirror_mode": {
    "name": "ipython",
    "version": 3
   },
   "file_extension": ".py",
   "mimetype": "text/x-python",
   "name": "python",
   "nbconvert_exporter": "python",
   "pygments_lexer": "ipython3",
   "version": "3.9.0"
  },
  "toc-autonumbering": true
 },
 "nbformat": 4,
 "nbformat_minor": 4
}
