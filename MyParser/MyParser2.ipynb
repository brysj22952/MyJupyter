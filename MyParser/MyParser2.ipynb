{
 "cells": [
  {
   "cell_type": "markdown",
   "metadata": {},
   "source": [
    "# 版本记录"
   ]
  },
  {
   "cell_type": "markdown",
   "metadata": {},
   "source": [
    "- v0.0.1  \n",
    "初始版本"
   ]
  },
  {
   "cell_type": "markdown",
   "metadata": {},
   "source": [
    "- v0.0.2  \n",
    "原来的模型不够简洁，去掉匹配规则对象，全部换成标记符对象。  \n",
    "考虑了一下，还是保留匹配规则对象，因为匹配规则，将来可能是重要的管理单元。  \n",
    "再考虑了一下，准备通过运算符重载的方式增加匹配规则，暂时先不体现匹配规则对象。  \n",
    "my parser有两种实现方案：\n",
    "一种是利用操作符重载简洁的表达，形如：s += a| a&s   \n",
    "另外一种采用函数方式表达可理解性更好，形如：s.add(a); s.add(a,s)  \n",
    "这两种方式是等价的，我先用简洁的实现看看方不方便，如果不行再换成函数式  \n",
    "\n",
    "初步实现了`S=a`的解析。"
   ]
  },
  {
   "cell_type": "markdown",
   "metadata": {},
   "source": [
    "v0.0.3   \n",
    "实现两个标记符对象的连接功能。形如：a & b"
   ]
  },
  {
   "cell_type": "markdown",
   "metadata": {},
   "source": [
    "# 思路"
   ]
  },
  {
   "cell_type": "markdown",
   "metadata": {},
   "source": [
    "- 左侧有且仅有一个非终结符  \n",
    "    形如S=aS\n",
    "- 匹配接口IMatch  \n",
    "    实现了Match函数，Match函数负责识别一段文本，返回可能识别到的多个结果列表，如果没有识别到，返回(False,...)  \n",
    "- 标记符对象  \n",
    "    - 实现了IMatch接口  \n",
    "    - 非终结符标记符对象  \n",
    "        - 包括一个标记符对象列表，这些标记符对象之间是或的关系  \n",
    "    - 终结符标记符对象  \n",
    "        直接返回匹配结果就好，不包括匹配规则对象    \n",
    "    - 开始符  \n",
    "        特殊的非终结标记符，匹配就从它开始  "
   ]
  },
  {
   "cell_type": "markdown",
   "metadata": {},
   "source": [
    "# 实现"
   ]
  },
  {
   "cell_type": "markdown",
   "metadata": {},
   "source": [
    "## 引入及类型"
   ]
  },
  {
   "cell_type": "code",
   "execution_count": 1,
   "metadata": {},
   "outputs": [],
   "source": [
    "from printobject import pp\n",
    "from types import MethodType "
   ]
  },
  {
   "cell_type": "code",
   "execution_count": 2,
   "metadata": {},
   "outputs": [],
   "source": [
    "from typing import List, Tuple\n",
    "\n",
    "# 匹配之后，剩余的待匹配的结果类型描述，形如(True,[(2,3),(5,6)])，第一项表示是否匹配成功，第2项表示匹配的结果，可能有多个待匹配项\n",
    "# 每一个匹配项第一项表示起始索引，第2项表示长度\n",
    "ParseResults = Tuple[bool,List[Tuple[int,int]]]"
   ]
  },
  {
   "cell_type": "markdown",
   "metadata": {},
   "source": [
    "## 匹配接口IMatch"
   ]
  },
  {
   "cell_type": "code",
   "execution_count": 3,
   "metadata": {},
   "outputs": [],
   "source": [
    "class IMatch:\n",
    "    # 表示待解析的原始字符串\n",
    "    Text :str = None\n",
    "\n",
    "    def Match(self, startIndex: int, length: int, isFullMatch: bool) -> ParseResults:\n",
    "        '''\n",
    "        功能描述：对待解析的字符串进行匹配，返回匹配的结果\n",
    "        startIndex：待匹配字符串的起始索引\n",
    "        length：待匹配字符串的长度\n",
    "        isFullMatch：表示是否需要完全匹配，如果完全匹配，则必须字符串匹配完，才返回成功，只匹配部分，则匹配失败\n",
    "        返回值：ParseResults类型，可能有多个剩余的待匹配项\n",
    "        '''\n",
    "        pass\n",
    "    pass"
   ]
  },
  {
   "cell_type": "markdown",
   "metadata": {},
   "source": [
    "## 标记符对象"
   ]
  },
  {
   "cell_type": "code",
   "execution_count": 4,
   "metadata": {},
   "outputs": [],
   "source": [
    "class Symbol(IMatch):\n",
    "    def __and__(self, dst):\n",
    "        first = self\n",
    "        # 实现两个对象的连接操作，操作符`&`\n",
    "        def Match(self, startIndex: int, length: int, isFullMatch: bool) -> ParseResults:\n",
    "            # 匹配第一个\n",
    "            # 第一个对象部分匹配即可，不要用self，以免命名冲突\n",
    "            firstRes = first.Match(startIndex, length, False)\n",
    "            if firstRes[0]==False: return (False,None)\n",
    "            \n",
    "            # 匹配第2个\n",
    "            # 对每一个成功的匹配结果\n",
    "            lastSuccess = False\n",
    "            lastResult = []\n",
    "            for result in firstRes[1]:\n",
    "                # isFullMatch继承主函数的\n",
    "                secondRes = dst.Match(result[0],result[1],isFullMatch)\n",
    "                # 如果匹配失败，则继续\n",
    "                if secondRes[0]==False: continue\n",
    "                # 如果匹配成功\n",
    "                lastSuccess = True\n",
    "                # 合并每个匹配结果\n",
    "                lastResult.extend(secondRes[1])\n",
    "            # 匹配结果去重\n",
    "            lastResult = list(set(lastResult))\n",
    "            \n",
    "            # 返回最终结果\n",
    "            return (lastSuccess,lastResult)\n",
    "        \n",
    "        # 生成一个复合标记符对象\n",
    "        newSymbol = Symbol()\n",
    "        # 替换匹配函数\n",
    "        newSymbol.Match = MethodType(Match,newSymbol)\n",
    "        return newSymbol"
   ]
  },
  {
   "cell_type": "markdown",
   "metadata": {},
   "source": [
    "### 终结符对象"
   ]
  },
  {
   "cell_type": "code",
   "execution_count": 5,
   "metadata": {},
   "outputs": [],
   "source": [
    "class Terminal(Symbol):pass"
   ]
  },
  {
   "cell_type": "markdown",
   "metadata": {},
   "source": [
    "### 非终结符对象"
   ]
  },
  {
   "cell_type": "code",
   "execution_count": 6,
   "metadata": {},
   "outputs": [],
   "source": [
    "class NonTerminal(Symbol):\n",
    "    def __init__(self):\n",
    "        # 符号对象列表，这些符号对象是或的关系\n",
    "        self.symbolList: List[Symbol] = []\n",
    "    \n",
    "    # 重载 `|=`操作符\n",
    "    def __ior__(self,dst:Symbol):\n",
    "        self.symbolList.append(dst)\n",
    "        return self"
   ]
  },
  {
   "cell_type": "markdown",
   "metadata": {},
   "source": [
    "### 关于结束符"
   ]
  },
  {
   "cell_type": "markdown",
   "metadata": {},
   "source": [
    "开始似乎需要结束符，结束符表示最后空的匹配，才能匹配成功。后来思考一下，似乎不需要结束符了，因为对于每一个匹配规则对象，都要求完全匹配，不允许还剩余没有匹配的部分。所以，对于标记符对象、匹配规则对象，都要检查是否匹配完整。  "
   ]
  },
  {
   "cell_type": "markdown",
   "metadata": {},
   "source": [
    "表示一个基础匹配单元，包括开始符、非终结标记符、终结标记符。  \n",
    "```\n",
    "# S是开始符，`aS`表示S的一个匹配规则，S、A都是非终结标记符，a是终结标记符\n",
    "S=aS\n",
    "A=aB\n",
    "```"
   ]
  },
  {
   "cell_type": "markdown",
   "metadata": {},
   "source": [
    "### 开始符对象"
   ]
  },
  {
   "cell_type": "code",
   "execution_count": 7,
   "metadata": {},
   "outputs": [],
   "source": [
    "class Starter(NonTerminal):\n",
    "    def __init__(self):\n",
    "        super(Starter, self).__init__()\n",
    "        # 匹配成功的次数\n",
    "        self.successNum = 0\n",
    "            \n",
    "    def Match(self, startIndex: int, length: int, isFullMatch: bool) -> ParseResults:\n",
    "        for symbol in self.symbolList:\n",
    "            # 开始符对象的match必须全部匹配\n",
    "            res = symbol.Match(startIndex, length, True)\n",
    "            if res[0]==True: self.successNum += 1\n",
    "                \n",
    "    def Run(self, txt: str) -> int:\n",
    "        '''\n",
    "        txt：要匹配的文本\n",
    "        返回匹配成功的次数，如果为0，表示没有匹配成功，如果大于1，表示有多个成功的匹配\n",
    "        '''\n",
    "        IMatch.Text = txt\n",
    "        self.Match(0,len(IMatch.Text),True)\n",
    "        return self.successNum"
   ]
  },
  {
   "cell_type": "markdown",
   "metadata": {},
   "source": [
    "# 应用"
   ]
  },
  {
   "cell_type": "markdown",
   "metadata": {},
   "source": [
    "## 实现`S=a`"
   ]
  },
  {
   "cell_type": "markdown",
   "metadata": {},
   "source": [
    "## 字母`a`的终结符对象"
   ]
  },
  {
   "cell_type": "code",
   "execution_count": 8,
   "metadata": {},
   "outputs": [],
   "source": [
    "class A(Terminal):\n",
    "    def Match(self, startIndex: int, length: int, isFullMatch: bool) -> ParseResults:\n",
    "        if length <= 0: return (False,None)\n",
    "        \n",
    "        # 如果严格匹配，只能匹配单字符\n",
    "        if isFullMatch==True and length > 1: return (False,None)\n",
    "        \n",
    "        if IMatch.Text[startIndex] != 'a': return (False,None)\n",
    "        return (True,[(startIndex+1,length-1)])"
   ]
  },
  {
   "cell_type": "markdown",
   "metadata": {},
   "source": [
    "# 试验运行"
   ]
  },
  {
   "cell_type": "code",
   "execution_count": 9,
   "metadata": {},
   "outputs": [],
   "source": [
    "def Run():\n",
    "    # breakpoint()\n",
    "    # import web_pdb\n",
    "    # web_pdb.set_trace()\n",
    "    s=Starter()\n",
    "    s |= A() & A()\n",
    "    res = s.Run('aa')\n",
    "    assert(res==1)"
   ]
  },
  {
   "cell_type": "code",
   "execution_count": 10,
   "metadata": {},
   "outputs": [],
   "source": [
    "Run()"
   ]
  },
  {
   "cell_type": "code",
   "execution_count": null,
   "metadata": {},
   "outputs": [],
   "source": [
    "        "
   ]
  }
 ],
 "metadata": {
  "kernelspec": {
   "display_name": "Python 3",
   "language": "python",
   "name": "python3"
  },
  "language_info": {
   "codemirror_mode": {
    "name": "ipython",
    "version": 3
   },
   "file_extension": ".py",
   "mimetype": "text/x-python",
   "name": "python",
   "nbconvert_exporter": "python",
   "pygments_lexer": "ipython3",
   "version": "3.9.0"
  },
  "toc-autonumbering": true,
  "toc-showcode": false,
  "toc-showmarkdowntxt": false,
  "toc-showtags": false
 },
 "nbformat": 4,
 "nbformat_minor": 4
}
