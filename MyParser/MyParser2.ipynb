{
 "cells": [
  {
   "cell_type": "markdown",
   "metadata": {},
   "source": [
    "# 版本记录"
   ]
  },
  {
   "cell_type": "markdown",
   "metadata": {},
   "source": [
    "- v0.0.1  \n",
    "初始版本"
   ]
  },
  {
   "cell_type": "markdown",
   "metadata": {},
   "source": [
    "- v0.0.2  \n",
    "原来的模型不够简洁，去掉匹配规则对象，全部换成标记符对象。  \n",
    "考虑了一下，还是保留匹配规则对象，因为匹配规则，将来可能是重要的管理单元。  \n",
    "再考虑了一下，准备通过运算符重载的方式增加匹配规则，暂时先不体现匹配规则对象。  \n",
    "my parser有两种实现方案：\n",
    "一种是利用操作符重载简洁的表达，形如：s += a| a&s   \n",
    "另外一种采用函数方式表达可理解性更好，形如：s.add(a); s.add(a,s)  \n",
    "这两种方式是等价的，我先用简洁的实现看看方不方便，如果不行再换成函数式  \n",
    "\n",
    "初步实现了`S=a`的解析。"
   ]
  },
  {
   "cell_type": "markdown",
   "metadata": {},
   "source": [
    "v0.0.3   \n",
    "想到一种新的实现方案，结合v0.0.2两个方案的优点。使用操作符重载来简洁表达，相同操作自动合并，兼顾可理解性和可读性。"
   ]
  },
  {
   "cell_type": "markdown",
   "metadata": {},
   "source": [
    "# 思路"
   ]
  },
  {
   "cell_type": "markdown",
   "metadata": {},
   "source": [
    "## 描述"
   ]
  },
  {
   "cell_type": "markdown",
   "metadata": {},
   "source": [
    "- 左侧有且仅有一个非终结符  \n",
    "    形如S=aS\n",
    "- 匹配接口IMatch  \n",
    "    实现了Match函数，Match函数负责识别一段文本，返回可能识别到的多个结果列表，如果没有识别到，返回(False,...)  \n",
    "- 标记符对象（Symbol）  \n",
    "    - 实现了IMatch接口  \n",
    "    - 终结符对象（Terminal）  \n",
    "    单个标记符对象，不包括其他标记符对象，直接匹配  \n",
    "    - 复合标记符(MultiSymbol)  \n",
    "    管理着一个标记符符号列表，包含一个或多个符号\n",
    "    - 与复合标记符对象(AndSymbol)  \n",
    "    这是一个复合标记符对象，包含多个标记符，这些标记符之间是与的关系  \n",
    "    - 或复合标记符对象(OrSymbol)  \n",
    "    这是一个复合标记符对象，包含多个标记符，这些标记符之间是或的关系  \n",
    "    - 非终结符标记符对象(NonTerminal)  \n",
    "      是一种特殊的或复合标记符对象，这些标记符将来作为匹配规则对象来处理  \n",
    "    - 开始符（Starter）  \n",
    "        特殊的非终结标记符，匹配就从它开始  \n",
    "    - 参数化标记符  \n",
    "        自己管理和处理标记符列表的标记符  "
   ]
  },
  {
   "cell_type": "markdown",
   "metadata": {},
   "source": [
    "## 对象继承关系"
   ]
  },
  {
   "cell_type": "markdown",
   "metadata": {},
   "source": [
    "采用graphviz描述，直接运行下面的脚本即可。"
   ]
  },
  {
   "cell_type": "code",
   "execution_count": 1,
   "metadata": {},
   "outputs": [],
   "source": [
    "def 对象继承关系():\n",
    "    from graphviz import Digraph\n",
    "    dot = Digraph()\n",
    "    # 节点描述\n",
    "    dot.node('IMatch',xlabel='定义了Match函数')\n",
    "    dot.node('Symbol',xlabel='标记符')\n",
    "    dot.node('Terminal',xlabel='终结符')\n",
    "    dot.node('MultiSymbol',xlabel='复合标记符，管理一个符号列表')\n",
    "    dot.node('AndSymbol',xlabel='与复合标记符')\n",
    "    dot.node('OrSymbol',xlabel='或复合标记符')\n",
    "    dot.node('NonTerminal',xlabel='非终结符,包含一个或多个可称之为规则的标记符')\n",
    "    dot.node('Starter',xlabel='开始符')\n",
    "    # 继承关系描述\n",
    "    dot.edge('IMatch','Symbol')\n",
    "    dot.edge('Symbol','Terminal')\n",
    "    dot.edge('Symbol','MultiSymbol')\n",
    "    dot.edge('MultiSymbol','AndSymbol')\n",
    "    dot.edge('MultiSymbol','OrSymbol')\n",
    "    dot.edge('OrSymbol','NonTerminal')\n",
    "    dot.edge('NonTerminal','Starter')\n",
    "    # 显示图像\n",
    "    dot\n",
    "\n",
    "#对象继承关系()"
   ]
  },
  {
   "cell_type": "markdown",
   "metadata": {},
   "source": [
    "# 实现"
   ]
  },
  {
   "cell_type": "markdown",
   "metadata": {},
   "source": [
    "## 引入及类型"
   ]
  },
  {
   "cell_type": "code",
   "execution_count": 2,
   "metadata": {},
   "outputs": [],
   "source": [
    "from printobject import pp\n",
    "from types import MethodType "
   ]
  },
  {
   "cell_type": "code",
   "execution_count": 3,
   "metadata": {},
   "outputs": [],
   "source": [
    "from typing import List, Tuple\n",
    "\n",
    "# 匹配之后，剩余的待匹配的结果类型描述，形如(True,[(2,3),(5,6)])，第一项表示是否匹配成功，第2项表示匹配的结果，可能有多个待匹配项\n",
    "# 每一个匹配项第一项表示起始索引，第2项表示长度\n",
    "ParseResults = Tuple[bool,List[Tuple[int,int]]]"
   ]
  },
  {
   "cell_type": "markdown",
   "metadata": {},
   "source": [
    "## 匹配接口IMatch"
   ]
  },
  {
   "cell_type": "code",
   "execution_count": 4,
   "metadata": {},
   "outputs": [],
   "source": [
    "class IMatch:\n",
    "    # 表示待解析的原始字符串\n",
    "    Text :str = None\n",
    "\n",
    "    def Match(self, startIndex: int, length: int, isFullMatch: bool) -> ParseResults:\n",
    "        '''\n",
    "        功能描述：对待解析的字符串进行匹配，返回匹配的结果\n",
    "        startIndex：待匹配字符串的起始索引\n",
    "        length：待匹配字符串的长度\n",
    "        isFullMatch：表示是否需要完全匹配，如果完全匹配，则必须字符串匹配完，才返回成功，只匹配部分，则匹配失败\n",
    "        返回值：ParseResults类型，可能有多个剩余的待匹配项\n",
    "        '''\n",
    "        pass\n",
    "    pass"
   ]
  },
  {
   "cell_type": "markdown",
   "metadata": {},
   "source": [
    "## 标记符对象Symbol"
   ]
  },
  {
   "cell_type": "code",
   "execution_count": 5,
   "metadata": {},
   "outputs": [],
   "source": [
    "class Symbol(IMatch): \n",
    "    # 重载&函数\n",
    "    def __and__(self, dst):\n",
    "        # 把两个标记符对象合并到一起\n",
    "        def _与合并(s1,s2):\n",
    "            if type(s2)==AndSymbol:\n",
    "                s1.symbolList.extend(s2.symbolList)\n",
    "            else:\n",
    "                s1.symbolList.append(s2)\n",
    "        newSymbol = AndSymbol()\n",
    "        _与合并(newSymbol,self)\n",
    "        _与合并(newSymbol,dst)\n",
    "        return newSymbol\n",
    "    \n",
    "    # 重载|函数\n",
    "    def __or__(self, dst):\n",
    "        # 把两个标记符对象合并到一起\n",
    "        def _或合并(s1,s2):\n",
    "            if type(s2)==OrSymbol:\n",
    "                s1.symbolList.extend(s2.symbolList)\n",
    "            else:\n",
    "                s1.symbolList.append(s2)\n",
    "        newSymbol = OrSymbol()\n",
    "        _或合并(newSymbol,self)\n",
    "        _或合并(newSymbol,dst)\n",
    "        return newSymbol"
   ]
  },
  {
   "cell_type": "markdown",
   "metadata": {},
   "source": [
    "## 多匹配函数"
   ]
  },
  {
   "cell_type": "markdown",
   "metadata": {},
   "source": [
    "是为了合并多个符号对象或者多个结果对象。"
   ]
  },
  {
   "cell_type": "code",
   "execution_count": 6,
   "metadata": {},
   "outputs": [],
   "source": [
    "def MultiMatch(li: list, isFullMatch: bool, symbol: Symbol = None, startIndex: int = None, length: int = None) -> ParseResults:\n",
    "    if len(li) <= 0: return (False,None)\n",
    "    lastSuccess = False\n",
    "    lastResult = []\n",
    "    for item in li:\n",
    "        if symbol != None:\n",
    "            # 表示多结果匹配\n",
    "            res = symbol.Match(item[0], item[1], isFullMatch)\n",
    "        else:\n",
    "            # 表示多符号匹配\n",
    "            res = item.Match(startIndex, length, isFullMatch)\n",
    "        # 如果匹配失败，则继续\n",
    "        if res[0]==False: continue\n",
    "        # 如果匹配成功\n",
    "        lastSuccess = True\n",
    "        # 合并每个匹配结果\n",
    "        lastResult.extend(res[1])\n",
    "    # 匹配结果去重\n",
    "    lastResult = list(set(lastResult))\n",
    "    # 返回最终结果\n",
    "    return (lastSuccess,lastResult)"
   ]
  },
  {
   "cell_type": "markdown",
   "metadata": {},
   "source": [
    "### 终结符对象Terminal"
   ]
  },
  {
   "cell_type": "code",
   "execution_count": 7,
   "metadata": {},
   "outputs": [],
   "source": [
    "class Terminal(Symbol):pass"
   ]
  },
  {
   "cell_type": "markdown",
   "metadata": {},
   "source": [
    "## 复合标记符对象MultiSymbol"
   ]
  },
  {
   "cell_type": "code",
   "execution_count": 8,
   "metadata": {},
   "outputs": [],
   "source": [
    "class MultiSymbol(Symbol):\n",
    "    def __init__(self):\n",
    "        super().__init__()\n",
    "        # 管理符号对象列表，这些符号对象的关系依赖于对象的类型\n",
    "        self.symbolList: List[Symbol] = []"
   ]
  },
  {
   "cell_type": "markdown",
   "metadata": {},
   "source": [
    "## 或复合标记符对象"
   ]
  },
  {
   "cell_type": "code",
   "execution_count": 9,
   "metadata": {},
   "outputs": [],
   "source": [
    "class OrSymbol(MultiSymbol):\n",
    "    '''复合标记符对象列表中的标记符之间是或的关系，可以采用多匹配函数进行匹配'''\n",
    "    def Match(self, startIndex: int, length: int, isFullMatch: bool) -> ParseResults:\n",
    "        return MultiMatch(self.symbolList, isFullMatch, startIndex=startIndex, length=length)"
   ]
  },
  {
   "cell_type": "markdown",
   "metadata": {},
   "source": [
    "## 与复合标记符对象"
   ]
  },
  {
   "cell_type": "code",
   "execution_count": 10,
   "metadata": {},
   "outputs": [],
   "source": [
    "class AndSymbol(MultiSymbol):\n",
    "    '''复合标记符对象列表中的标记符之间是与的关系，可以采用多匹配函数进行匹配'''\n",
    "    def Match(self, startIndex: int, length: int, isFullMatch: bool) -> ParseResults:\n",
    "        if len(self.symbolList) <= 1: return (False,None)\n",
    "        # 上一个处理结果，先进行初始化\n",
    "        preResult = [(startIndex,length)]\n",
    "        # 先处理前面的，最后一个单独处理\n",
    "        for symbol in self.symbolList[:-1]:\n",
    "            res = MultiMatch(preResult,False,symbol)\n",
    "            if res[0]==False: return (False,None)\n",
    "            preResult = res[1]\n",
    "        # 再处理最后一个\n",
    "        return MultiMatch(preResult,isFullMatch,self.symbolList[-1])"
   ]
  },
  {
   "cell_type": "markdown",
   "metadata": {},
   "source": [
    "## 非终结符对象"
   ]
  },
  {
   "cell_type": "markdown",
   "metadata": {},
   "source": [
    "形如：A = abc，A = aA，其中A就是非终结符。他管理的符号对象列表也称之为规则，彼此之间是或的关系，所以继承或标记符对象。"
   ]
  },
  {
   "cell_type": "code",
   "execution_count": 11,
   "metadata": {},
   "outputs": [],
   "source": [
    "class NonTerminal(OrSymbol): \n",
    "    def __iadd__(self,dst):\n",
    "        self.symbolList.append(dst)\n",
    "        return self"
   ]
  },
  {
   "cell_type": "markdown",
   "metadata": {},
   "source": [
    "### 关于结束符"
   ]
  },
  {
   "cell_type": "markdown",
   "metadata": {},
   "source": [
    "开始似乎需要结束符，结束符表示最后空的匹配，才能匹配成功。后来思考一下，似乎不需要结束符了，因为对于每一个匹配规则对象，都要求完全匹配，不允许还剩余没有匹配的部分。所以，对于标记符对象、匹配规则对象，都要检查是否匹配完整。  "
   ]
  },
  {
   "cell_type": "markdown",
   "metadata": {},
   "source": [
    "表示一个基础匹配单元，包括开始符、非终结标记符、终结标记符。  \n",
    "```\n",
    "# S是开始符，`aS`表示S的一个匹配规则，S、A都是非终结标记符，a是终结标记符\n",
    "S=aS\n",
    "A=aB\n",
    "```"
   ]
  },
  {
   "cell_type": "markdown",
   "metadata": {},
   "source": [
    "## 开始符对象"
   ]
  },
  {
   "cell_type": "code",
   "execution_count": 12,
   "metadata": {},
   "outputs": [],
   "source": [
    "class Starter(NonTerminal):\n",
    "    def Run(self, txt: str) -> int:\n",
    "        '''\n",
    "        txt：要匹配的文本\n",
    "        返回匹配成功的次数，如果为0，表示没有匹配成功，如果大于1，表示有多个成功的匹配\n",
    "        '''\n",
    "        IMatch.Text = txt\n",
    "        res = self.Match(0,len(IMatch.Text),True)\n",
    "        return res[0]"
   ]
  },
  {
   "cell_type": "markdown",
   "metadata": {},
   "source": [
    "# 应用"
   ]
  },
  {
   "cell_type": "markdown",
   "metadata": {},
   "source": [
    "## 实现`S=a`"
   ]
  },
  {
   "cell_type": "markdown",
   "metadata": {},
   "source": [
    "## 字母`a`的终结符对象"
   ]
  },
  {
   "cell_type": "code",
   "execution_count": 13,
   "metadata": {},
   "outputs": [],
   "source": [
    "class A(Terminal):\n",
    "    def Match(self, startIndex: int, length: int, isFullMatch: bool) -> ParseResults:\n",
    "        if length <= 0: return (False,None)\n",
    "        \n",
    "        # 如果严格匹配，只能匹配单字符\n",
    "        if isFullMatch==True and length > 1: return (False,None)\n",
    "        \n",
    "        if IMatch.Text[startIndex] != 'a': return (False,None)\n",
    "        return (True,[(startIndex+1,length-1)])"
   ]
  },
  {
   "cell_type": "markdown",
   "metadata": {},
   "source": [
    "# 试验运行"
   ]
  },
  {
   "cell_type": "code",
   "execution_count": 14,
   "metadata": {},
   "outputs": [],
   "source": [
    "def Run():\n",
    "    s=Starter()\n",
    "    a = A()\n",
    "    s += a | a&a\n",
    "    res = s.Run('aa')\n",
    "    assert(res==True)"
   ]
  },
  {
   "cell_type": "code",
   "execution_count": 15,
   "metadata": {},
   "outputs": [],
   "source": [
    "Run()"
   ]
  },
  {
   "cell_type": "code",
   "execution_count": null,
   "metadata": {},
   "outputs": [],
   "source": []
  }
 ],
 "metadata": {
  "kernelspec": {
   "display_name": "Python 3.9 (XPython)",
   "language": "python",
   "name": "xpython"
  },
  "language_info": {
   "file_extension": ".py",
   "mimetype": "text/x-python",
   "name": "python",
   "version": "3.9.0"
  },
  "toc-autonumbering": true,
  "toc-showcode": false,
  "toc-showmarkdowntxt": false,
  "toc-showtags": false
 },
 "nbformat": 4,
 "nbformat_minor": 4
}
