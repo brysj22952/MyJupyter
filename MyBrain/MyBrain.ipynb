{
 "cells": [
  {
   "cell_type": "markdown",
   "metadata": {},
   "source": [
    "# 对象定义"
   ]
  },
  {
   "cell_type": "markdown",
   "metadata": {},
   "source": [
    "## 引入和定义"
   ]
  },
  {
   "cell_type": "code",
   "execution_count": 1,
   "metadata": {},
   "outputs": [],
   "source": [
    "from typing import List, Tuple\n",
    "from bitstring import BitArray, BitStream\n",
    "import random\n",
    "import numpy as np\n",
    "\n",
    "# 训练数据，是一个二元组，前者表示输入数据，后者表示预期结果数据，形如：[([1,1],[2]),([1,2],[3])]\n",
    "# 表示一组训练数据\n",
    "OneGroupData = Tuple[List[float],List[float]]\n",
    "# 表示多组训练数据\n",
    "TrainData: List[OneGroupData] = None"
   ]
  },
  {
   "cell_type": "markdown",
   "metadata": {},
   "source": [
    "## 公共函数"
   ]
  },
  {
   "cell_type": "code",
   "execution_count": 2,
   "metadata": {},
   "outputs": [],
   "source": [
    "def RandomBitArray(length: int):\n",
    "    res = []\n",
    "    for i in range(length):\n",
    "        res.append(random.choice('01'))\n",
    "    return BitArray(bin=''.join(res))"
   ]
  },
  {
   "cell_type": "markdown",
   "metadata": {},
   "source": [
    "## Man对象"
   ]
  },
  {
   "cell_type": "markdown",
   "metadata": {},
   "source": [
    "个体"
   ]
  },
  {
   "cell_type": "markdown",
   "metadata": {},
   "source": [
    "### 初始化函数"
   ]
  },
  {
   "cell_type": "code",
   "execution_count": 3,
   "metadata": {},
   "outputs": [],
   "source": [
    "def Man_Init(self, cellsNum: int):\n",
    "    # 神经元的数量\n",
    "    self.cellsNum = cellsNum\n",
    "\n",
    "    # 输入神经元\n",
    "    self.inputCell = InputCell(self)\n",
    "    # 输出神经元\n",
    "    self.outputCell = OutputCell(self)\n",
    "\n",
    "    # 神经元列表\n",
    "    self.cells: List[Cell] = []\n",
    "    # 初始化神经元列表\n",
    "    self.cells.append(self.inputCell)\n",
    "    self.cells.append(self.outputCell)\n",
    "    # 增加普通神经元\n",
    "    for i in range(self.cellsNum):\n",
    "        self.cells.append(Cell(self))\n",
    "\n",
    "    self.token = 0\n",
    "    \n",
    "    # 适应度 = 1 - 偏差率；偏差率 = Abs[（计算值 - 实际值）/ 实际值 ]\n",
    "    self.fitness: float = None"
   ]
  },
  {
   "cell_type": "markdown",
   "metadata": {},
   "source": [
    "### ComputeFitness"
   ]
  },
  {
   "cell_type": "code",
   "execution_count": 4,
   "metadata": {},
   "outputs": [],
   "source": [
    "def ComputeFitness(self, trainData: TrainData) -> None:\n",
    "    '''\n",
    "    trainData：训练数据\n",
    "    功能：计算并设置Man对象的适应度\n",
    "    '''\n",
    "    fitnessValues = list(map(self.ComputeFitness_OneGroup,trainData))\n",
    "    res = np.mean(fitnessValues)\n",
    "    self.fitness = res"
   ]
  },
  {
   "cell_type": "markdown",
   "metadata": {},
   "source": [
    "#### ComputeFitness_OneGroup"
   ]
  },
  {
   "cell_type": "code",
   "execution_count": 5,
   "metadata": {},
   "outputs": [],
   "source": [
    "def ComputeFitness_OneGroup(self, data: OneGroupData) -> float:\n",
    "    '''\n",
    "    计算单组训练数据的平均适应度\n",
    "    返回值：平均适应度\n",
    "    '''\n",
    "    def 适应度(dst, bas):\n",
    "        res = (dst - bas)/bas\n",
    "        return 1 - abs(res)\n",
    "    \n",
    "    inputs = data[0]\n",
    "    outputs = data[1]\n",
    "    computeValues = self.Compute(inputs, len(outputs))\n",
    "    fitnessValues = list(map(适应度, computeValues, outputs))\n",
    "    res = np.mean(fitnessValues)\n",
    "    return res"
   ]
  },
  {
   "cell_type": "markdown",
   "metadata": {},
   "source": [
    "### Compute：计算单组输入的输出"
   ]
  },
  {
   "cell_type": "code",
   "execution_count": 6,
   "metadata": {},
   "outputs": [],
   "source": [
    "def OneCompute(self):\n",
    "    '''进行一次计算'''\n",
    "    self.token += 1\n",
    "    self.inputCell.compute(self.token)\n",
    "\n",
    "def Compute(self, inputs: List[float], outputNum: int) -> List[float]:\n",
    "    '''\n",
    "    功能：输入一组数据，计算对应的输出数据\n",
    "    inputs：一组输入数据\n",
    "    outputNum：输出数据的数量\n",
    "    返回：一组输出数据\n",
    "    '''\n",
    "    # 输入阶段\n",
    "    for v in inputs:\n",
    "        self.inputCell.value = v\n",
    "        self.OneCompute()\n",
    "\n",
    "    # 思考阶段，暂时先思考一次吧\n",
    "    self.OneCompute()\n",
    "\n",
    "    # 输出阶段\n",
    "    res = []\n",
    "    for i in range(outputNum):\n",
    "        self.OneCompute()\n",
    "        res.append(self.outputCell.value)\n",
    "\n",
    "    return res"
   ]
  },
  {
   "cell_type": "markdown",
   "metadata": {},
   "source": [
    "### Man：类定义"
   ]
  },
  {
   "cell_type": "code",
   "execution_count": 7,
   "metadata": {},
   "outputs": [],
   "source": [
    "class Man:\n",
    "    # 初始化函数\n",
    "    __init__ = Man_Init\n",
    "    # 计算适应度函数\n",
    "    ComputeFitness = ComputeFitness\n",
    "    # 计算单组训练数据的平均适应度\n",
    "    ComputeFitness_OneGroup = ComputeFitness_OneGroup\n",
    "    OneCompute = OneCompute\n",
    "    # 输入一组数据，计算对应的输出数据\n",
    "    Compute = Compute"
   ]
  },
  {
   "cell_type": "markdown",
   "metadata": {},
   "source": [
    "## Cell对象"
   ]
  },
  {
   "cell_type": "markdown",
   "metadata": {},
   "source": [
    "神经元"
   ]
  },
  {
   "cell_type": "code",
   "execution_count": 8,
   "metadata": {},
   "outputs": [],
   "source": [
    "class Cell:\n",
    "    def __init__(self, owner: Man):\n",
    "        super().__init__()\n",
    "        # 设置其所属的父对象\n",
    "        self.owner = owner\n",
    "        # 连接到自己的神经元有哪些，0表示没有连接，1表示有连接\n",
    "        self.inCells: BitArray = None\n",
    "        # 连接到自己的神经元的权重\n",
    "        self.weights: List[float] = None\n",
    "        self.bitWeights: BitArray = None\n",
    "        # 自己连接到的神经元\n",
    "        self.outCells: BitArray = None\n",
    "        # 神经元自身的值\n",
    "        self.value: float = None\n",
    "        # 神经元自身的偏移量\n",
    "        self.b: float = None\n",
    "        # 计算令牌\n",
    "        self.token = -1\n",
    "        \n",
    "        # 随机化\n",
    "        self._randomParas()\n",
    "    \n",
    "    # 随机化相关参数\n",
    "    def _randomParas(self):\n",
    "        # 神经元的数量\n",
    "        length = self.owner.cellsNum\n",
    "        self.inCells = RandomBitArray(length)\n",
    "        self.outCells = RandomBitArray(length)\n",
    "        self.bitWeights = RandomBitArray(length*64)\n",
    "        self.weights = BitStream(self.bitWeights).readlist(f'{length}*float:64')\n",
    "        self.value = RandomBitArray(64).float\n",
    "        self.b = RandomBitArray(64).float\n",
    "    \n",
    "    # 计算输入神经元的加权和\n",
    "    def _computeSum(self) -> float:\n",
    "        res = self.b\n",
    "        for i,w in enumerate(self.inCells):\n",
    "            # 如果没有连接，则不参与计算\n",
    "            if w == 0: continue\n",
    "            res += self.owner.cells[i].value * self.weights[i]\n",
    "        return res\n",
    "    \n",
    "    def _IsContinue(self, token) -> bool:\n",
    "        '''根据计算令牌，判断是否需要继续计算'''\n",
    "        if self.token == token: return False\n",
    "        self.token = token\n",
    "        return True\n",
    "    \n",
    "    def _computeOthers(self, token):\n",
    "        '''遍历它所连接的神经元'''\n",
    "        for i,w in enumerate(self.outCells):\n",
    "            if w == 0: continue\n",
    "            self.owner.cells[i].compute(token)\n",
    "    \n",
    "    def compute(self, token: int) -> None:\n",
    "        '''\n",
    "        token：计算令牌用于防止重复计算\n",
    "        '''\n",
    "        if self._IsContinue(token)==False: return\n",
    "        \n",
    "        # 更新自身神经元的值\n",
    "        _sum = self._computeSum()\n",
    "        # 采用ReLU激励函数\n",
    "        self.value = 0 if _sum<0 else _sum\n",
    "        \n",
    "        # 遍历它所连接的神经元\n",
    "        self._computeOthers(token)"
   ]
  },
  {
   "cell_type": "markdown",
   "metadata": {},
   "source": [
    "### InputCell对象"
   ]
  },
  {
   "cell_type": "code",
   "execution_count": 9,
   "metadata": {},
   "outputs": [],
   "source": [
    "class  InputCell(Cell):\n",
    "    def compute(self, token: int) -> None:\n",
    "        if self._IsContinue(token)==False: return\n",
    "        # 自身的值不需要更新\n",
    "        # 遍历它所连接的神经元\n",
    "        self._computeOthers(token)"
   ]
  },
  {
   "cell_type": "markdown",
   "metadata": {},
   "source": [
    "### OutputCell对象"
   ]
  },
  {
   "cell_type": "code",
   "execution_count": 10,
   "metadata": {},
   "outputs": [],
   "source": [
    "class  OutputCell(Cell):\n",
    "    def compute(self, token: int) -> None:\n",
    "        if self._IsContinue(token)==False: return\n",
    "        # 更新自身神经元的值\n",
    "        _sum = self._computeSum()\n",
    "        # 最后这个可以不用激励函数了\n",
    "        self.value = _sum\n",
    "        # 遍历它所连接的神经元\n",
    "        self._computeOthers(token)"
   ]
  },
  {
   "cell_type": "markdown",
   "metadata": {},
   "source": [
    "## Ai对象"
   ]
  },
  {
   "cell_type": "markdown",
   "metadata": {},
   "source": [
    "AI系统"
   ]
  },
  {
   "cell_type": "code",
   "execution_count": 11,
   "metadata": {},
   "outputs": [],
   "source": [
    "class Ai:\n",
    "    pass"
   ]
  },
  {
   "cell_type": "markdown",
   "metadata": {},
   "source": [
    "# 测试代码"
   ]
  },
  {
   "cell_type": "markdown",
   "metadata": {},
   "source": [
    "man = Man(1)\n",
    "t1 = ([1,1],[2])\n",
    "t2 = ([1,2],[3])\n",
    "trainData = [t1,t2]\n",
    "man.ComputeFitness(trainData)\n",
    "res = man.fitness\n",
    "print(res)"
   ]
  }
 ],
 "metadata": {
  "kernelspec": {
   "display_name": "Python 3.9 (XPython)",
   "language": "python",
   "name": "xpython"
  },
  "language_info": {
   "file_extension": ".py",
   "mimetype": "text/x-python",
   "name": "python",
   "version": "3.9.0"
  },
  "toc-autonumbering": true
 },
 "nbformat": 4,
 "nbformat_minor": 4
}
