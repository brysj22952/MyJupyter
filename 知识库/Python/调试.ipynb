{
 "cells": [
  {
   "cell_type": "markdown",
   "metadata": {},
   "source": [
    "python-web-pdb库可以远程调试，但是在我机器上不好使，可以研究一下  \n",
    "\n",
    "https://github.com/romanvm/python-web-pdb  \n",
    "\n",
    "一共不到1000行代码，只是用了asyncore_wsgi组件，没有办法在公司内访问，看看是否可以改造一下。  \n",
    "\n",
    "PySnooper库需要学习一下，可以帮助打印对象或者变量信息。  "
   ]
  },
  {
   "cell_type": "markdown",
   "metadata": {},
   "source": [
    "python-remote-pdb：只有100多行，可以好好学习一下\n",
    "https://github.com/ionelmc/python-remote-pdb/blob/master/src/remote_pdb.py#L125  "
   ]
  },
  {
   "cell_type": "code",
   "execution_count": null,
   "metadata": {},
   "outputs": [],
   "source": []
  }
 ],
 "metadata": {
  "kernelspec": {
   "display_name": "Python 3",
   "language": "python",
   "name": "python3"
  },
  "language_info": {
   "codemirror_mode": {
    "name": "ipython",
    "version": 3
   },
   "file_extension": ".py",
   "mimetype": "text/x-python",
   "name": "python",
   "nbconvert_exporter": "python",
   "pygments_lexer": "ipython3",
   "version": "3.9.0"
  }
 },
 "nbformat": 4,
 "nbformat_minor": 4
}
